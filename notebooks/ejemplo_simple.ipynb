{
 "cells": [
  {
   "cell_type": "code",
   "execution_count": 140,
   "metadata": {},
   "outputs": [],
   "source": [
    "from matplotlib import pyplot as plt\n",
    "import pandas as pd\n",
    "from sklearn import metrics\n",
    "\n",
    "red = \"#E07182\"\n",
    "blue = \"#4487D3\""
   ]
  },
  {
   "cell_type": "code",
   "execution_count": 10,
   "metadata": {},
   "outputs": [],
   "source": [
    "def get_node_colors(sm, target):\n",
    "    node_colors = []\n",
    "    for node in sm.nodes():\n",
    "        if node == target:\n",
    "            node_colors.append(red)\n",
    "        else:\n",
    "            node_colors.append(blue)   \n",
    "    return node_colors"
   ]
  },
  {
   "cell_type": "markdown",
   "metadata": {},
   "source": [
    "## **Fenómeno a modelar**\n",
    "    \n",
    "**Rafa** y **Pipe** son dos colegas que viven en Valdivia, una ciudad del sur de Chile que suele tener mal clima. A pesar de esto, ellos gustan de salir después del trabajo a lanzar piedras y **romper ventanas** de casas abandonadas. Pipe suele salir más que Rafa a pesar del **mal clima**, pero de todas formas ambos tienden a salir menos si es que el clima no los favorece. Además de esto Pipe suele tener mejor puntería que Rafa\n",
    "\n",
    "## **¿Como modelamos esto?**\n",
    "\n",
    "### Variables:\n",
    "\n",
    "- **Pipe**: será la variable binaria que dice si Pipe sale o no a romper ventanas\n",
    "- **Rafa**: será la variable binaria que dice si Rafa sale o no a romper ventanas\n",
    "- **MalClima**: será la variable binaria que nos dice si hay mal clima o no\n",
    "- **RompeVentana**: será la variable binaria que nos dice si se rompen o no ventanas\n",
    "\n",
    "### Distribuciones y relaciones:\n",
    "\n",
    "\\begin{align*}  \n",
    "\\textbf{MalClima} &\\sim \\text{Bernoulli}(0.8) \\\\  \n",
    "\\textbf{Pipe} &\\sim \\text{Bernoulli}(\\textbf{MalClima}\\cdot 0.70 + (1-\\textbf{MalClima})\\cdot 0.9) \\\\ \n",
    "\\textbf{Rafa} &\\sim \\text{Bernoulli}(\\textbf{MalClima}\\cdot 0.40 + (1-\\textbf{MalClima})\\cdot 0.9) \\\\ \n",
    "\\textbf{RompeVentana} &\\sim \\max\\left\\{\\text{Bernoulli}(\\textbf{Pipe}\\cdot 0.90),  \\text{Bernoulli}(\\textbf{Rafa}\\cdot 0.80)\\right\\}\n",
    "\\end{align*}\n",
    "\n",
    "### Grafo causal del fenómeno"
   ]
  },
  {
   "cell_type": "code",
   "execution_count": 152,
   "metadata": {},
   "outputs": [
    {
     "data": {
      "image/png": "[encoded data removed]",
      "text/plain": [
       "<Figure size 720x504 with 1 Axes>"
      ]
     },
     "metadata": {},
     "output_type": "display_data"
    }
   ],
   "source": [
    "from causalnex.structure import StructureModel\n",
    "import networkx as nx\n",
    "\n",
    "target = \"RompeVentana\"\n",
    "\n",
    "sm_teorico = StructureModel()\n",
    "sm_teorico.add_edges_from([\n",
    "    ('MalClima', 'Pipe'),\n",
    "    ('MalClima', 'Rafa'),\n",
    "    ('Pipe', 'RompeVentana'),\n",
    "    ('Rafa', 'RompeVentana'),\n",
    "])\n",
    "\n",
    "fig, ax = plt.subplots(figsize=(10, 7))\n",
    "nx.draw_networkx(\n",
    "    sm_teorico, \n",
    "    node_color=get_node_colors(sm_teorico, target), \n",
    "    node_size=700, \n",
    "    font_size=10, \n",
    "    ax=ax\n",
    ")\n",
    "\n",
    "fig.show()"
   ]
  },
  {
   "cell_type": "markdown",
   "metadata": {},
   "source": [
    "### Generar datos sintéticos"
   ]
  },
  {
   "cell_type": "code",
   "execution_count": 46,
   "metadata": {},
   "outputs": [],
   "source": [
    "import pyro\n",
    "import torch as th\n",
    "import pyro.distributions as dist"
   ]
  },
  {
   "cell_type": "code",
   "execution_count": 153,
   "metadata": {},
   "outputs": [],
   "source": [
    "n_samples = 1000\n",
    "\n",
    "MalClima = pyro.sample('MalClima', dist.Bernoulli(0.8*th.ones(n_samples)))\n",
    "Pipe = pyro.sample('Pipe', dist.Bernoulli(MalClima*0.7 + (1-MalClima)*0.9))\n",
    "Rafa = pyro.sample('Pipe', dist.Bernoulli(MalClima*0.4 + (1-MalClima)*0.9))\n",
    "PipeRompe = pyro.sample('PipeRompe', dist.Bernoulli(Pipe*0.9))\n",
    "RafaRompe = pyro.sample('RafaRompe', dist.Bernoulli(Rafa*0.8))\n",
    "RompeVentana = th.maximum(PipeRompe, RafaRompe)"
   ]
  },
  {
   "cell_type": "code",
   "execution_count": 154,
   "metadata": {},
   "outputs": [
    {
     "data": {
      "text/html": [
       "<div>\n",
       "<style scoped>\n",
       "    .dataframe tbody tr th:only-of-type {\n",
       "        vertical-align: middle;\n",
       "    }\n",
       "\n",
       "    .dataframe tbody tr th {\n",
       "        vertical-align: top;\n",
       "    }\n",
       "\n",
       "    .dataframe thead th {\n",
       "        text-align: right;\n",
       "    }\n",
       "</style>\n",
       "<table border=\"1\" class=\"dataframe\">\n",
       "  <thead>\n",
       "    <tr style=\"text-align: right;\">\n",
       "      <th></th>\n",
       "      <th>MalClima</th>\n",
       "      <th>Pipe</th>\n",
       "      <th>Rafa</th>\n",
       "      <th>RompeVentana</th>\n",
       "    </tr>\n",
       "  </thead>\n",
       "  <tbody>\n",
       "    <tr>\n",
       "      <th>0</th>\n",
       "      <td>1</td>\n",
       "      <td>0</td>\n",
       "      <td>1</td>\n",
       "      <td>1</td>\n",
       "    </tr>\n",
       "    <tr>\n",
       "      <th>1</th>\n",
       "      <td>1</td>\n",
       "      <td>1</td>\n",
       "      <td>0</td>\n",
       "      <td>1</td>\n",
       "    </tr>\n",
       "    <tr>\n",
       "      <th>2</th>\n",
       "      <td>0</td>\n",
       "      <td>1</td>\n",
       "      <td>1</td>\n",
       "      <td>1</td>\n",
       "    </tr>\n",
       "    <tr>\n",
       "      <th>3</th>\n",
       "      <td>0</td>\n",
       "      <td>0</td>\n",
       "      <td>1</td>\n",
       "      <td>1</td>\n",
       "    </tr>\n",
       "    <tr>\n",
       "      <th>4</th>\n",
       "      <td>1</td>\n",
       "      <td>1</td>\n",
       "      <td>0</td>\n",
       "      <td>1</td>\n",
       "    </tr>\n",
       "  </tbody>\n",
       "</table>\n",
       "</div>"
      ],
      "text/plain": [
       "   MalClima  Pipe  Rafa  RompeVentana\n",
       "0         1     0     1             1\n",
       "1         1     1     0             1\n",
       "2         0     1     1             1\n",
       "3         0     0     1             1\n",
       "4         1     1     0             1"
      ]
     },
     "execution_count": 154,
     "metadata": {},
     "output_type": "execute_result"
    }
   ],
   "source": [
    "data = pd.DataFrame({\n",
    "    'MalClima': MalClima.numpy(),\n",
    "    'Pipe': Pipe.numpy(),\n",
    "    'Rafa': Rafa.numpy(),\n",
    "    'RompeVentana': RompeVentana.numpy(),\n",
    "}).astype(int)\n",
    "\n",
    "data.head()"
   ]
  },
  {
   "cell_type": "code",
   "execution_count": 156,
   "metadata": {},
   "outputs": [
    {
     "data": {
      "text/plain": [
       "MalClima\n",
       "0    0.924242\n",
       "1    0.422693\n",
       "Name: Rafa, dtype: float64"
      ]
     },
     "execution_count": 156,
     "metadata": {},
     "output_type": "execute_result"
    }
   ],
   "source": [
    "#sanity check de tasa de salida de rafa cuando hay mal clima\n",
    "data.groupby('MalClima')['Rafa'].mean()"
   ]
  },
  {
   "cell_type": "markdown",
   "metadata": {},
   "source": [
    "### Estimación del grafo causal\n",
    "se usa el algoritmo NOTEARS:\n",
    "\n",
    "https://proceedings.neurips.cc/paper/2018/file/e347c51419ffb23ca3fd5050202f9c3d-Paper.pdf"
   ]
  },
  {
   "cell_type": "code",
   "execution_count": 157,
   "metadata": {},
   "outputs": [],
   "source": [
    "from causalnex.structure import notears"
   ]
  },
  {
   "cell_type": "code",
   "execution_count": 158,
   "metadata": {},
   "outputs": [
    {
     "data": {
      "image/png": "[encoded data removed]",
      "text/plain": [
       "<Figure size 720x504 with 1 Axes>"
      ]
     },
     "metadata": {},
     "output_type": "display_data"
    }
   ],
   "source": [
    "sm_notears = notears.from_pandas(data)\n",
    "\n",
    "fig, ax = plt.subplots(figsize=(10, 7))\n",
    "nx.draw_networkx(\n",
    "    sm_notears, \n",
    "    node_color=get_node_colors(sm_notears, target), \n",
    "    node_size=700, \n",
    "    font_size=10, \n",
    "    ax=ax\n",
    ")\n",
    "\n",
    "fig.show()"
   ]
  },
  {
   "cell_type": "code",
   "execution_count": 160,
   "metadata": {},
   "outputs": [
    {
     "data": {
      "text/html": [
       "<div>\n",
       "<style scoped>\n",
       "    .dataframe tbody tr th:only-of-type {\n",
       "        vertical-align: middle;\n",
       "    }\n",
       "\n",
       "    .dataframe tbody tr th {\n",
       "        vertical-align: top;\n",
       "    }\n",
       "\n",
       "    .dataframe thead th {\n",
       "        text-align: right;\n",
       "    }\n",
       "</style>\n",
       "<table border=\"1\" class=\"dataframe\">\n",
       "  <thead>\n",
       "    <tr style=\"text-align: right;\">\n",
       "      <th></th>\n",
       "      <th>node_0</th>\n",
       "      <th>node_1</th>\n",
       "      <th>weight</th>\n",
       "      <th>abs_weight</th>\n",
       "    </tr>\n",
       "  </thead>\n",
       "  <tbody>\n",
       "    <tr>\n",
       "      <th>1</th>\n",
       "      <td>MalClima</td>\n",
       "      <td>RompeVentana</td>\n",
       "      <td>0.000006</td>\n",
       "      <td>0.000006</td>\n",
       "    </tr>\n",
       "    <tr>\n",
       "      <th>9</th>\n",
       "      <td>RompeVentana</td>\n",
       "      <td>Pipe</td>\n",
       "      <td>0.000024</td>\n",
       "      <td>0.000024</td>\n",
       "    </tr>\n",
       "    <tr>\n",
       "      <th>3</th>\n",
       "      <td>Pipe</td>\n",
       "      <td>Rafa</td>\n",
       "      <td>0.000029</td>\n",
       "      <td>0.000029</td>\n",
       "    </tr>\n",
       "    <tr>\n",
       "      <th>7</th>\n",
       "      <td>RompeVentana</td>\n",
       "      <td>Rafa</td>\n",
       "      <td>0.000072</td>\n",
       "      <td>0.000072</td>\n",
       "    </tr>\n",
       "    <tr>\n",
       "      <th>10</th>\n",
       "      <td>MalClima</td>\n",
       "      <td>Pipe</td>\n",
       "      <td>0.000078</td>\n",
       "      <td>0.000078</td>\n",
       "    </tr>\n",
       "    <tr>\n",
       "      <th>11</th>\n",
       "      <td>MalClima</td>\n",
       "      <td>Rafa</td>\n",
       "      <td>0.000195</td>\n",
       "      <td>0.000195</td>\n",
       "    </tr>\n",
       "    <tr>\n",
       "      <th>8</th>\n",
       "      <td>Rafa</td>\n",
       "      <td>MalClima</td>\n",
       "      <td>-0.113368</td>\n",
       "      <td>0.113368</td>\n",
       "    </tr>\n",
       "    <tr>\n",
       "      <th>0</th>\n",
       "      <td>Pipe</td>\n",
       "      <td>MalClima</td>\n",
       "      <td>0.200690</td>\n",
       "      <td>0.200690</td>\n",
       "    </tr>\n",
       "    <tr>\n",
       "      <th>2</th>\n",
       "      <td>Rafa</td>\n",
       "      <td>RompeVentana</td>\n",
       "      <td>0.350926</td>\n",
       "      <td>0.350926</td>\n",
       "    </tr>\n",
       "    <tr>\n",
       "      <th>6</th>\n",
       "      <td>RompeVentana</td>\n",
       "      <td>MalClima</td>\n",
       "      <td>0.653327</td>\n",
       "      <td>0.653327</td>\n",
       "    </tr>\n",
       "    <tr>\n",
       "      <th>4</th>\n",
       "      <td>Pipe</td>\n",
       "      <td>RompeVentana</td>\n",
       "      <td>0.751272</td>\n",
       "      <td>0.751272</td>\n",
       "    </tr>\n",
       "    <tr>\n",
       "      <th>5</th>\n",
       "      <td>Rafa</td>\n",
       "      <td>Pipe</td>\n",
       "      <td>0.769456</td>\n",
       "      <td>0.769456</td>\n",
       "    </tr>\n",
       "  </tbody>\n",
       "</table>\n",
       "</div>"
      ],
      "text/plain": [
       "          node_0        node_1    weight  abs_weight\n",
       "1       MalClima  RompeVentana  0.000006    0.000006\n",
       "9   RompeVentana          Pipe  0.000024    0.000024\n",
       "3           Pipe          Rafa  0.000029    0.000029\n",
       "7   RompeVentana          Rafa  0.000072    0.000072\n",
       "10      MalClima          Pipe  0.000078    0.000078\n",
       "11      MalClima          Rafa  0.000195    0.000195\n",
       "8           Rafa      MalClima -0.113368    0.113368\n",
       "0           Pipe      MalClima  0.200690    0.200690\n",
       "2           Rafa  RompeVentana  0.350926    0.350926\n",
       "6   RompeVentana      MalClima  0.653327    0.653327\n",
       "4           Pipe  RompeVentana  0.751272    0.751272\n",
       "5           Rafa          Pipe  0.769456    0.769456"
      ]
     },
     "execution_count": 160,
     "metadata": {},
     "output_type": "execute_result"
    }
   ],
   "source": [
    "graph = pd.DataFrame({\n",
    "    (u, v, w, abs(w)) for u, v, w in sm_notears.edges(data=\"weight\")\n",
    "}, columns=['node_0', 'node_1', 'weight', 'abs_weight'])\n",
    "\n",
    "graph.sort_values(by='abs_weight')"
   ]
  },
  {
   "cell_type": "markdown",
   "metadata": {},
   "source": [
    "está raro el grafo estimado! que la ventana se rompa o no, no debería influir en si pipe sale a tirar piedras"
   ]
  },
  {
   "cell_type": "markdown",
   "metadata": {},
   "source": [
    "#### Restricciones"
   ]
  },
  {
   "cell_type": "code",
   "execution_count": 165,
   "metadata": {},
   "outputs": [
    {
     "data": {
      "image/png": "[encoded data removed]",
      "text/plain": [
       "<Figure size 720x504 with 1 Axes>"
      ]
     },
     "metadata": {},
     "output_type": "display_data"
    }
   ],
   "source": [
    "tabu_edges = [\n",
    "    ('RompeVentana', 'Pipe'),\n",
    "    ('RompeVentana', 'Rafa'), \n",
    "    ('Pipe', 'MalClima'),\n",
    "    ('Rafa', 'MalClima'),\n",
    "    ('RompeVentana', 'MalClima')\n",
    "]\n",
    "\n",
    "sm_notears = notears.from_pandas(data, tabu_edges=tabu_edges)\n",
    "\n",
    "fig, ax = plt.subplots(figsize=(10, 7))\n",
    "nx.draw_networkx(\n",
    "    sm_notears, \n",
    "    node_color=get_node_colors(sm_notears, target), \n",
    "    node_size=700, \n",
    "    font_size=10, \n",
    "    ax=ax\n",
    ")\n",
    "\n",
    "fig.show()"
   ]
  },
  {
   "cell_type": "code",
   "execution_count": 166,
   "metadata": {},
   "outputs": [
    {
     "data": {
      "text/html": [
       "<div>\n",
       "<style scoped>\n",
       "    .dataframe tbody tr th:only-of-type {\n",
       "        vertical-align: middle;\n",
       "    }\n",
       "\n",
       "    .dataframe tbody tr th {\n",
       "        vertical-align: top;\n",
       "    }\n",
       "\n",
       "    .dataframe thead th {\n",
       "        text-align: right;\n",
       "    }\n",
       "</style>\n",
       "<table border=\"1\" class=\"dataframe\">\n",
       "  <thead>\n",
       "    <tr style=\"text-align: right;\">\n",
       "      <th></th>\n",
       "      <th>node_0</th>\n",
       "      <th>node_1</th>\n",
       "      <th>weight</th>\n",
       "      <th>abs_weight</th>\n",
       "    </tr>\n",
       "  </thead>\n",
       "  <tbody>\n",
       "    <tr>\n",
       "      <th>5</th>\n",
       "      <td>Rafa</td>\n",
       "      <td>Pipe</td>\n",
       "      <td>0.000202</td>\n",
       "      <td>0.000202</td>\n",
       "    </tr>\n",
       "    <tr>\n",
       "      <th>2</th>\n",
       "      <td>MalClima</td>\n",
       "      <td>Rafa</td>\n",
       "      <td>0.089519</td>\n",
       "      <td>0.089519</td>\n",
       "    </tr>\n",
       "    <tr>\n",
       "      <th>0</th>\n",
       "      <td>MalClima</td>\n",
       "      <td>RompeVentana</td>\n",
       "      <td>0.161995</td>\n",
       "      <td>0.161995</td>\n",
       "    </tr>\n",
       "    <tr>\n",
       "      <th>1</th>\n",
       "      <td>Rafa</td>\n",
       "      <td>RompeVentana</td>\n",
       "      <td>0.334462</td>\n",
       "      <td>0.334462</td>\n",
       "    </tr>\n",
       "    <tr>\n",
       "      <th>3</th>\n",
       "      <td>Pipe</td>\n",
       "      <td>Rafa</td>\n",
       "      <td>0.484894</td>\n",
       "      <td>0.484894</td>\n",
       "    </tr>\n",
       "    <tr>\n",
       "      <th>4</th>\n",
       "      <td>Pipe</td>\n",
       "      <td>RompeVentana</td>\n",
       "      <td>0.638945</td>\n",
       "      <td>0.638945</td>\n",
       "    </tr>\n",
       "    <tr>\n",
       "      <th>6</th>\n",
       "      <td>MalClima</td>\n",
       "      <td>Pipe</td>\n",
       "      <td>0.688242</td>\n",
       "      <td>0.688242</td>\n",
       "    </tr>\n",
       "  </tbody>\n",
       "</table>\n",
       "</div>"
      ],
      "text/plain": [
       "     node_0        node_1    weight  abs_weight\n",
       "5      Rafa          Pipe  0.000202    0.000202\n",
       "2  MalClima          Rafa  0.089519    0.089519\n",
       "0  MalClima  RompeVentana  0.161995    0.161995\n",
       "1      Rafa  RompeVentana  0.334462    0.334462\n",
       "3      Pipe          Rafa  0.484894    0.484894\n",
       "4      Pipe  RompeVentana  0.638945    0.638945\n",
       "6  MalClima          Pipe  0.688242    0.688242"
      ]
     },
     "execution_count": 166,
     "metadata": {},
     "output_type": "execute_result"
    }
   ],
   "source": [
    "graph = pd.DataFrame({\n",
    "    (u, v, w, abs(w)) for u, v, w in sm_notears.edges(data=\"weight\")\n",
    "}, columns=['node_0', 'node_1', 'weight', 'abs_weight'])\n",
    "\n",
    "graph.sort_values(by='abs_weight')"
   ]
  },
  {
   "cell_type": "code",
   "execution_count": 167,
   "metadata": {},
   "outputs": [],
   "source": [
    "sm_notears.remove_edges_below_threshold(0.000202)"
   ]
  },
  {
   "cell_type": "code",
   "execution_count": 168,
   "metadata": {},
   "outputs": [
    {
     "data": {
      "image/png": "[encoded data removed]",
      "text/plain": [
       "<Figure size 720x504 with 1 Axes>"
      ]
     },
     "metadata": {},
     "output_type": "display_data"
    }
   ],
   "source": [
    "fig, ax = plt.subplots(figsize=(10, 7))\n",
    "nx.draw_networkx(\n",
    "    sm_notears, \n",
    "    node_color=get_node_colors(sm_notears, target), \n",
    "    node_size=700, \n",
    "    font_size=10, \n",
    "    ax=ax\n",
    ")\n",
    "\n",
    "fig.show()"
   ]
  },
  {
   "cell_type": "markdown",
   "metadata": {},
   "source": [
    "### Entrenar modelo usando grafo teorico"
   ]
  },
  {
   "cell_type": "code",
   "execution_count": 169,
   "metadata": {},
   "outputs": [
    {
     "name": "stderr",
     "output_type": "stream",
     "text": [
      "/opt/conda/lib/python3.7/site-packages/pgmpy/models/BayesianModel.py:10: FutureWarning: BayesianModel has been renamed to BayesianNetwork. Please use BayesianNewtork class, BayesianModel will be removed in future.\n",
      "  FutureWarning,\n"
     ]
    }
   ],
   "source": [
    "from causalnex.network import BayesianNetwork\n",
    "\n",
    "model = BayesianNetwork(sm_teorico)"
   ]
  },
  {
   "cell_type": "code",
   "execution_count": 170,
   "metadata": {},
   "outputs": [],
   "source": [
    "train = data.iloc[:900]\n",
    "test = data.iloc[900:]"
   ]
  },
  {
   "cell_type": "code",
   "execution_count": 171,
   "metadata": {},
   "outputs": [],
   "source": [
    "#extrae posibles valores (estados)que pueden tomar variables\n",
    "model = model.fit_node_states(train) \n",
    "\n",
    "#fitear modelo\n",
    "model = model.fit_cpds(train, method=\"BayesianEstimator\", bayes_prior=\"K2\")"
   ]
  },
  {
   "cell_type": "code",
   "execution_count": 172,
   "metadata": {},
   "outputs": [
    {
     "data": {
      "text/html": [
       "<div>\n",
       "<style scoped>\n",
       "    .dataframe tbody tr th:only-of-type {\n",
       "        vertical-align: middle;\n",
       "    }\n",
       "\n",
       "    .dataframe tbody tr th {\n",
       "        vertical-align: top;\n",
       "    }\n",
       "\n",
       "    .dataframe thead th {\n",
       "        text-align: right;\n",
       "    }\n",
       "</style>\n",
       "<table border=\"1\" class=\"dataframe\">\n",
       "  <thead>\n",
       "    <tr style=\"text-align: right;\">\n",
       "      <th></th>\n",
       "      <th>RompeVentana_0</th>\n",
       "      <th>RompeVentana_1</th>\n",
       "    </tr>\n",
       "  </thead>\n",
       "  <tbody>\n",
       "    <tr>\n",
       "      <th>900</th>\n",
       "      <td>0.024000</td>\n",
       "      <td>0.976000</td>\n",
       "    </tr>\n",
       "    <tr>\n",
       "      <th>901</th>\n",
       "      <td>0.024000</td>\n",
       "      <td>0.976000</td>\n",
       "    </tr>\n",
       "    <tr>\n",
       "      <th>902</th>\n",
       "      <td>0.091216</td>\n",
       "      <td>0.908784</td>\n",
       "    </tr>\n",
       "    <tr>\n",
       "      <th>903</th>\n",
       "      <td>0.992647</td>\n",
       "      <td>0.007353</td>\n",
       "    </tr>\n",
       "    <tr>\n",
       "      <th>904</th>\n",
       "      <td>0.024000</td>\n",
       "      <td>0.976000</td>\n",
       "    </tr>\n",
       "  </tbody>\n",
       "</table>\n",
       "</div>"
      ],
      "text/plain": [
       "     RompeVentana_0  RompeVentana_1\n",
       "900        0.024000        0.976000\n",
       "901        0.024000        0.976000\n",
       "902        0.091216        0.908784\n",
       "903        0.992647        0.007353\n",
       "904        0.024000        0.976000"
      ]
     },
     "execution_count": 172,
     "metadata": {},
     "output_type": "execute_result"
    }
   ],
   "source": [
    "predictions = model.predict_probability(test, target)\n",
    "predictions.head()"
   ]
  },
  {
   "cell_type": "code",
   "execution_count": 173,
   "metadata": {},
   "outputs": [],
   "source": [
    "def compute_pr_auc(target_values, prob_values):\n",
    "    precision, recall, _ = metrics.precision_recall_curve(\n",
    "        target_values, \n",
    "        prob_values,\n",
    "    )\n",
    "    return round(100*metrics.auc(recall, precision), 2)"
   ]
  },
  {
   "cell_type": "code",
   "execution_count": 174,
   "metadata": {},
   "outputs": [
    {
     "data": {
      "text/plain": [
       "95.14"
      ]
     },
     "execution_count": 174,
     "metadata": {},
     "output_type": "execute_result"
    }
   ],
   "source": [
    "compute_pr_auc(test['RompeVentana'], predictions['RompeVentana_1'])"
   ]
  },
  {
   "cell_type": "code",
   "execution_count": 175,
   "metadata": {},
   "outputs": [
    {
     "data": {
      "text/plain": [
       "0.9518"
      ]
     },
     "execution_count": 175,
     "metadata": {},
     "output_type": "execute_result"
    }
   ],
   "source": [
    "from causalnex.evaluation import roc_auc\n",
    "\n",
    "roc_auc(model, test, target)[-1]"
   ]
  },
  {
   "cell_type": "markdown",
   "metadata": {},
   "source": [
    "### Preguntas contrafactuales"
   ]
  },
  {
   "cell_type": "code",
   "execution_count": 176,
   "metadata": {},
   "outputs": [],
   "source": [
    "from causalnex.inference import InferenceEngine"
   ]
  },
  {
   "cell_type": "code",
   "execution_count": 187,
   "metadata": {},
   "outputs": [],
   "source": [
    "ie = InferenceEngine(model)"
   ]
  },
  {
   "cell_type": "markdown",
   "metadata": {},
   "source": [
    "#### ¿Que pasaria si siempre hay buen clima?\n",
    "\n",
    "*Notamos que la estimación de **Pipe** y **Rafa** es muy precisa (ambas cerca de **0.9**)*"
   ]
  },
  {
   "cell_type": "code",
   "execution_count": 182,
   "metadata": {},
   "outputs": [
    {
     "data": {
      "text/plain": [
       "{'MalClima': {0: 1.0, 1: 0.0},\n",
       " 'Pipe': {0: 0.10810810810810811, 1: 0.8918918918918919},\n",
       " 'Rafa': {0: 0.07567567567567568, 1: 0.9243243243243243},\n",
       " 'RompeVentana': {0: 0.057808149109036686, 1: 0.9421918508909632}}"
      ]
     },
     "execution_count": 182,
     "metadata": {},
     "output_type": "execute_result"
    }
   ],
   "source": [
    "ie.do_intervention(\"MalClima\", 0)\n",
    "marginals_after_interventions = ie.query({})\n",
    "marginals_after_interventions"
   ]
  },
  {
   "cell_type": "markdown",
   "metadata": {},
   "source": [
    "#### ¿Que pasaria si siempre hay buen clima?\n",
    "\n",
    "*Notamos que la estimación de **Pipe** y **Rafa** es muy precisa (ambas cerca de **Pipe~0.7** y **Rafa ~ 0.4**)*"
   ]
  },
  {
   "cell_type": "code",
   "execution_count": 183,
   "metadata": {},
   "outputs": [
    {
     "data": {
      "text/plain": [
       "{'MalClima': {0: 0.0, 1: 1.0},\n",
       " 'Pipe': {0: 0.29902642559109877, 1: 0.7009735744089014},\n",
       " 'Rafa': {0: 0.5785813630041725, 1: 0.4214186369958276},\n",
       " 'RompeVentana': {0: 0.24576747123657927, 1: 0.7542325287634208}}"
      ]
     },
     "execution_count": 183,
     "metadata": {},
     "output_type": "execute_result"
    }
   ],
   "source": [
    "#que pasaria si siempre hay mal clima\n",
    "ie.do_intervention(\"MalClima\", 1)\n",
    "marginals_after_interventions = ie.query({})\n",
    "marginals_after_interventions"
   ]
  },
  {
   "cell_type": "code",
   "execution_count": null,
   "metadata": {},
   "outputs": [],
   "source": [
    "marginals = ie.query({})\n",
    "marginals"
   ]
  }
 ],
 "metadata": {
  "kernelspec": {
   "display_name": "Python 3",
   "language": "python",
   "name": "python3"
  },
  "language_info": {
   "codemirror_mode": {
    "name": "ipython",
    "version": 3
   },
   "file_extension": ".py",
   "mimetype": "text/x-python",
   "name": "python",
   "nbconvert_exporter": "python",
   "pygments_lexer": "ipython3",
   "version": "3.7.9"
  }
 },
 "nbformat": 4,
 "nbformat_minor": 4
}
