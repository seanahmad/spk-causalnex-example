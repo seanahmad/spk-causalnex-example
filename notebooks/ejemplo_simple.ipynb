{
 "cells": [
  {
   "cell_type": "code",
   "execution_count": 1,
   "metadata": {},
   "outputs": [],
   "source": [
    "from matplotlib import pyplot as plt\n",
    "import pandas as pd\n",
    "from sklearn import metrics\n",
    "\n",
    "red = \"#E07182\"\n",
    "blue = \"#4487D3\""
   ]
  },
  {
   "cell_type": "code",
   "execution_count": 2,
   "metadata": {},
   "outputs": [],
   "source": [
    "def get_node_colors(sm, target):\n",
    "    node_colors = []\n",
    "    for node in sm.nodes():\n",
    "        if node == target:\n",
    "            node_colors.append(red)\n",
    "        else:\n",
    "            node_colors.append(blue)   \n",
    "    return node_colors"
   ]
  },
  {
   "cell_type": "markdown",
   "metadata": {},
   "source": [
    "## **Fenómeno a modelar**\n",
    "    \n",
    "**Rafa** y **Pipe** son dos colegas que viven en Valdivia, una ciudad del sur de Chile que suele tener mal clima. A pesar de esto, ellos gustan de salir después del trabajo a lanzar piedras y **romper ventanas** de casas abandonadas. Pipe suele salir más que Rafa a pesar del **mal clima**, pero de todas formas ambos tienden a salir menos si es que el clima no los favorece. Además de esto Pipe suele tener mejor puntería que Rafa\n",
    "\n",
    "## **¿Como modelamos esto?**\n",
    "\n",
    "### Variables:\n",
    "\n",
    "- **Pipe**: será la variable binaria que dice si Pipe sale o no a romper ventanas\n",
    "- **Rafa**: será la variable binaria que dice si Rafa sale o no a romper ventanas\n",
    "- **MalClima**: será la variable binaria que nos dice si hay mal clima o no\n",
    "- **RompeVentana**: será la variable binaria que nos dice si se rompen o no ventanas\n",
    "\n",
    "### Distribuciones y relaciones:\n",
    "\n",
    "\\begin{align*}  \n",
    "\\textbf{MalClima} &\\sim \\text{Bernoulli}(0.8) \\\\  \n",
    "\\textbf{Pipe} &\\sim \\text{Bernoulli}(\\textbf{MalClima}\\cdot 0.70 + (1-\\textbf{MalClima})\\cdot 0.9) \\\\ \n",
    "\\textbf{Rafa} &\\sim \\text{Bernoulli}(\\textbf{MalClima}\\cdot 0.40 + (1-\\textbf{MalClima})\\cdot 0.9) \\\\ \n",
    "\\textbf{RompeVentana} &\\sim \\max\\left\\{\\text{Bernoulli}(\\textbf{Pipe}\\cdot 0.90),  \\text{Bernoulli}(\\textbf{Rafa}\\cdot 0.80)\\right\\}\n",
    "\\end{align*}\n",
    "\n",
    "### Grafo causal del fenómeno"
   ]
  },
  {
   "cell_type": "code",
   "execution_count": 4,
   "metadata": {},
   "outputs": [
    {
     "data": {
      "image/png": "[encoded data removed]",
      "text/plain": [
       "<Figure size 720x504 with 1 Axes>"
      ]
     },
     "metadata": {},
     "output_type": "display_data"
    }
   ],
   "source": [
    "from causalnex.structure import StructureModel\n",
    "import networkx as nx\n",
    "\n",
    "target = \"RompeVentana\"\n",
    "\n",
    "sm_teorico = StructureModel()\n",
    "sm_teorico.add_edges_from([\n",
    "    ('MalClima', 'Pipe'),\n",
    "    ('MalClima', 'Rafa'),\n",
    "    ('Pipe', 'RompeVentana'),\n",
    "    ('Rafa', 'RompeVentana'),\n",
    "])\n",
    "\n",
    "fig, ax = plt.subplots(figsize=(10, 7))\n",
    "nx.draw_networkx(\n",
    "    sm_teorico, \n",
    "    node_color=get_node_colors(sm_teorico, target), \n",
    "    node_size=700, \n",
    "    font_size=10, \n",
    "    ax=ax\n",
    ")\n",
    "\n",
    "fig.show()"
   ]
  },
  {
   "cell_type": "markdown",
   "metadata": {},
   "source": [
    "### Distribución conjunta\n",
    "\n",
    "La función de probabilidad o distribución conjunta de las variables será denotada por\n",
    "\\begin{align*}  \n",
    "p(\\textbf{MalClima}, \\textbf{Pipe}, \\textbf{Rafa}, \\textbf{RompeVentana}) \n",
    "\\end{align*}\n",
    "esta se puede explicitar utilizando el grafo causal o DAG de las variables. A este proceso se llama *factorización de la distribución* y para este caso tiene la siguiente forma\n",
    "\n",
    "\\begin{align*}  \n",
    "p(\\textbf{MalClima}, \\textbf{Pipe}, \\textbf{Rafa}, \\textbf{RompeVentana}) \n",
    "&= p(\\textbf{MalClima}) p(\\textbf{Pipe}|\\textbf{MalClima})  p(\\textbf{Rafa}|\\textbf{MalClima})  p(\\textbf{RompeVentana}|\\textbf{Pipe}, \\textbf{Rafa})\n",
    "\\end{align*}\n",
    "\n",
    "En un modelo de red bayesiana general la formula anterior se ve así:\n",
    "\\begin{align*}  \n",
    "p(\\bf{x_1, ..., x_n}) \n",
    "&= p(\\bf{x_1}|\\text{pa}(\\bf{x_1})) p(\\bf{x_2}|\\text{pa}(\\bf{x_2})) \\cdots p(\\bf{x_n}|\\text{pa}(\\bf{x_n}))\n",
    "\\end{align*}\n",
    "donde pa(x_i) el conjunto de variables padres o ancentros de x_i definidos en el grafo causal\n",
    "\n",
    "*Nota: El poder factorizar la probabilidad con un grafo poco denso hace que las posibles combinaciones a calcular sean menores*"
   ]
  },
  {
   "cell_type": "markdown",
   "metadata": {},
   "source": [
    "### Generar datos sintéticos"
   ]
  },
  {
   "cell_type": "code",
   "execution_count": 6,
   "metadata": {},
   "outputs": [],
   "source": [
    "import pyro\n",
    "import torch as th\n",
    "import pyro.distributions as dist"
   ]
  },
  {
   "cell_type": "code",
   "execution_count": 7,
   "metadata": {},
   "outputs": [],
   "source": [
    "n_samples = 1000\n",
    "\n",
    "MalClima = pyro.sample('MalClima', dist.Bernoulli(0.8*th.ones(n_samples)))\n",
    "Pipe = pyro.sample('Pipe', dist.Bernoulli(MalClima*0.7 + (1-MalClima)*0.9))\n",
    "Rafa = pyro.sample('Pipe', dist.Bernoulli(MalClima*0.4 + (1-MalClima)*0.9))\n",
    "PipeRompe = pyro.sample('PipeRompe', dist.Bernoulli(Pipe*0.9))\n",
    "RafaRompe = pyro.sample('RafaRompe', dist.Bernoulli(Rafa*0.8))\n",
    "RompeVentana = th.maximum(PipeRompe, RafaRompe)"
   ]
  },
  {
   "cell_type": "code",
   "execution_count": 8,
   "metadata": {},
   "outputs": [
    {
     "data": {
      "text/html": [
       "<div>\n",
       "<style scoped>\n",
       "    .dataframe tbody tr th:only-of-type {\n",
       "        vertical-align: middle;\n",
       "    }\n",
       "\n",
       "    .dataframe tbody tr th {\n",
       "        vertical-align: top;\n",
       "    }\n",
       "\n",
       "    .dataframe thead th {\n",
       "        text-align: right;\n",
       "    }\n",
       "</style>\n",
       "<table border=\"1\" class=\"dataframe\">\n",
       "  <thead>\n",
       "    <tr style=\"text-align: right;\">\n",
       "      <th></th>\n",
       "      <th>MalClima</th>\n",
       "      <th>Pipe</th>\n",
       "      <th>Rafa</th>\n",
       "      <th>RompeVentana</th>\n",
       "    </tr>\n",
       "  </thead>\n",
       "  <tbody>\n",
       "    <tr>\n",
       "      <th>0</th>\n",
       "      <td>1</td>\n",
       "      <td>1</td>\n",
       "      <td>0</td>\n",
       "      <td>1</td>\n",
       "    </tr>\n",
       "    <tr>\n",
       "      <th>1</th>\n",
       "      <td>1</td>\n",
       "      <td>0</td>\n",
       "      <td>1</td>\n",
       "      <td>0</td>\n",
       "    </tr>\n",
       "    <tr>\n",
       "      <th>2</th>\n",
       "      <td>1</td>\n",
       "      <td>1</td>\n",
       "      <td>1</td>\n",
       "      <td>1</td>\n",
       "    </tr>\n",
       "    <tr>\n",
       "      <th>3</th>\n",
       "      <td>1</td>\n",
       "      <td>1</td>\n",
       "      <td>0</td>\n",
       "      <td>1</td>\n",
       "    </tr>\n",
       "    <tr>\n",
       "      <th>4</th>\n",
       "      <td>0</td>\n",
       "      <td>1</td>\n",
       "      <td>1</td>\n",
       "      <td>1</td>\n",
       "    </tr>\n",
       "  </tbody>\n",
       "</table>\n",
       "</div>"
      ],
      "text/plain": [
       "   MalClima  Pipe  Rafa  RompeVentana\n",
       "0         1     1     0             1\n",
       "1         1     0     1             0\n",
       "2         1     1     1             1\n",
       "3         1     1     0             1\n",
       "4         0     1     1             1"
      ]
     },
     "execution_count": 8,
     "metadata": {},
     "output_type": "execute_result"
    }
   ],
   "source": [
    "data = pd.DataFrame({\n",
    "    'MalClima': MalClima.numpy(),\n",
    "    'Pipe': Pipe.numpy(),\n",
    "    'Rafa': Rafa.numpy(),\n",
    "    'RompeVentana': RompeVentana.numpy(),\n",
    "}).astype(int)\n",
    "\n",
    "data.head()"
   ]
  },
  {
   "cell_type": "code",
   "execution_count": 9,
   "metadata": {},
   "outputs": [
    {
     "data": {
      "text/plain": [
       "MalClima\n",
       "0    0.892157\n",
       "1    0.418342\n",
       "Name: Rafa, dtype: float64"
      ]
     },
     "execution_count": 9,
     "metadata": {},
     "output_type": "execute_result"
    }
   ],
   "source": [
    "#sanity check de tasa de salida de rafa cuando hay mal clima\n",
    "data.groupby('MalClima')['Rafa'].mean()"
   ]
  },
  {
   "cell_type": "markdown",
   "metadata": {},
   "source": [
    "### Estimación del grafo causal\n",
    "se usa el algoritmo NOTEARS:\n",
    "\n",
    "https://proceedings.neurips.cc/paper/2018/file/e347c51419ffb23ca3fd5050202f9c3d-Paper.pdf"
   ]
  },
  {
   "cell_type": "code",
   "execution_count": 10,
   "metadata": {},
   "outputs": [],
   "source": [
    "from causalnex.structure import notears"
   ]
  },
  {
   "cell_type": "code",
   "execution_count": 11,
   "metadata": {},
   "outputs": [
    {
     "data": {
      "image/png": "[encoded data removed]",
      "text/plain": [
       "<Figure size 720x504 with 1 Axes>"
      ]
     },
     "metadata": {},
     "output_type": "display_data"
    }
   ],
   "source": [
    "sm_notears = notears.from_pandas(data)\n",
    "\n",
    "fig, ax = plt.subplots(figsize=(10, 7))\n",
    "nx.draw_networkx(\n",
    "    sm_notears, \n",
    "    node_color=get_node_colors(sm_notears, target), \n",
    "    node_size=700, \n",
    "    font_size=10, \n",
    "    ax=ax\n",
    ")\n",
    "\n",
    "fig.show()"
   ]
  },
  {
   "cell_type": "code",
   "execution_count": 12,
   "metadata": {},
   "outputs": [
    {
     "data": {
      "text/html": [
       "<div>\n",
       "<style scoped>\n",
       "    .dataframe tbody tr th:only-of-type {\n",
       "        vertical-align: middle;\n",
       "    }\n",
       "\n",
       "    .dataframe tbody tr th {\n",
       "        vertical-align: top;\n",
       "    }\n",
       "\n",
       "    .dataframe thead th {\n",
       "        text-align: right;\n",
       "    }\n",
       "</style>\n",
       "<table border=\"1\" class=\"dataframe\">\n",
       "  <thead>\n",
       "    <tr style=\"text-align: right;\">\n",
       "      <th></th>\n",
       "      <th>node_0</th>\n",
       "      <th>node_1</th>\n",
       "      <th>weight</th>\n",
       "      <th>abs_weight</th>\n",
       "    </tr>\n",
       "  </thead>\n",
       "  <tbody>\n",
       "    <tr>\n",
       "      <th>10</th>\n",
       "      <td>MalClima</td>\n",
       "      <td>RompeVentana</td>\n",
       "      <td>0.000006</td>\n",
       "      <td>0.000006</td>\n",
       "    </tr>\n",
       "    <tr>\n",
       "      <th>8</th>\n",
       "      <td>RompeVentana</td>\n",
       "      <td>Pipe</td>\n",
       "      <td>0.000025</td>\n",
       "      <td>0.000025</td>\n",
       "    </tr>\n",
       "    <tr>\n",
       "      <th>11</th>\n",
       "      <td>Pipe</td>\n",
       "      <td>Rafa</td>\n",
       "      <td>0.000029</td>\n",
       "      <td>0.000029</td>\n",
       "    </tr>\n",
       "    <tr>\n",
       "      <th>4</th>\n",
       "      <td>RompeVentana</td>\n",
       "      <td>Rafa</td>\n",
       "      <td>0.000070</td>\n",
       "      <td>0.000070</td>\n",
       "    </tr>\n",
       "    <tr>\n",
       "      <th>1</th>\n",
       "      <td>MalClima</td>\n",
       "      <td>Pipe</td>\n",
       "      <td>0.000082</td>\n",
       "      <td>0.000082</td>\n",
       "    </tr>\n",
       "    <tr>\n",
       "      <th>3</th>\n",
       "      <td>MalClima</td>\n",
       "      <td>Rafa</td>\n",
       "      <td>0.000209</td>\n",
       "      <td>0.000209</td>\n",
       "    </tr>\n",
       "    <tr>\n",
       "      <th>0</th>\n",
       "      <td>Rafa</td>\n",
       "      <td>MalClima</td>\n",
       "      <td>-0.095449</td>\n",
       "      <td>0.095449</td>\n",
       "    </tr>\n",
       "    <tr>\n",
       "      <th>7</th>\n",
       "      <td>Pipe</td>\n",
       "      <td>MalClima</td>\n",
       "      <td>0.206269</td>\n",
       "      <td>0.206269</td>\n",
       "    </tr>\n",
       "    <tr>\n",
       "      <th>2</th>\n",
       "      <td>Rafa</td>\n",
       "      <td>RompeVentana</td>\n",
       "      <td>0.345524</td>\n",
       "      <td>0.345524</td>\n",
       "    </tr>\n",
       "    <tr>\n",
       "      <th>6</th>\n",
       "      <td>RompeVentana</td>\n",
       "      <td>MalClima</td>\n",
       "      <td>0.630791</td>\n",
       "      <td>0.630791</td>\n",
       "    </tr>\n",
       "    <tr>\n",
       "      <th>9</th>\n",
       "      <td>Pipe</td>\n",
       "      <td>RompeVentana</td>\n",
       "      <td>0.763451</td>\n",
       "      <td>0.763451</td>\n",
       "    </tr>\n",
       "    <tr>\n",
       "      <th>5</th>\n",
       "      <td>Rafa</td>\n",
       "      <td>Pipe</td>\n",
       "      <td>0.763825</td>\n",
       "      <td>0.763825</td>\n",
       "    </tr>\n",
       "  </tbody>\n",
       "</table>\n",
       "</div>"
      ],
      "text/plain": [
       "          node_0        node_1    weight  abs_weight\n",
       "10      MalClima  RompeVentana  0.000006    0.000006\n",
       "8   RompeVentana          Pipe  0.000025    0.000025\n",
       "11          Pipe          Rafa  0.000029    0.000029\n",
       "4   RompeVentana          Rafa  0.000070    0.000070\n",
       "1       MalClima          Pipe  0.000082    0.000082\n",
       "3       MalClima          Rafa  0.000209    0.000209\n",
       "0           Rafa      MalClima -0.095449    0.095449\n",
       "7           Pipe      MalClima  0.206269    0.206269\n",
       "2           Rafa  RompeVentana  0.345524    0.345524\n",
       "6   RompeVentana      MalClima  0.630791    0.630791\n",
       "9           Pipe  RompeVentana  0.763451    0.763451\n",
       "5           Rafa          Pipe  0.763825    0.763825"
      ]
     },
     "execution_count": 12,
     "metadata": {},
     "output_type": "execute_result"
    }
   ],
   "source": [
    "graph = pd.DataFrame({\n",
    "    (u, v, w, abs(w)) for u, v, w in sm_notears.edges(data=\"weight\")\n",
    "}, columns=['node_0', 'node_1', 'weight', 'abs_weight'])\n",
    "\n",
    "graph.sort_values(by='abs_weight')"
   ]
  },
  {
   "cell_type": "markdown",
   "metadata": {},
   "source": [
    "está raro el grafo estimado! que la ventana se rompa o no, no debería influir en si pipe sale a tirar piedras"
   ]
  },
  {
   "cell_type": "markdown",
   "metadata": {},
   "source": [
    "#### Restricciones"
   ]
  },
  {
   "cell_type": "code",
   "execution_count": 13,
   "metadata": {},
   "outputs": [
    {
     "data": {
      "image/png": "[encoded data removed]",
      "text/plain": [
       "<Figure size 720x504 with 1 Axes>"
      ]
     },
     "metadata": {},
     "output_type": "display_data"
    }
   ],
   "source": [
    "tabu_edges = [\n",
    "    ('RompeVentana', 'Pipe'),\n",
    "    ('RompeVentana', 'Rafa'), \n",
    "    ('Pipe', 'MalClima'),\n",
    "    ('Rafa', 'MalClima'),\n",
    "    ('RompeVentana', 'MalClima')\n",
    "]\n",
    "\n",
    "sm_notears = notears.from_pandas(data, tabu_edges=tabu_edges)\n",
    "\n",
    "fig, ax = plt.subplots(figsize=(10, 7))\n",
    "nx.draw_networkx(\n",
    "    sm_notears, \n",
    "    node_color=get_node_colors(sm_notears, target), \n",
    "    node_size=700, \n",
    "    font_size=10, \n",
    "    ax=ax\n",
    ")\n",
    "\n",
    "fig.show()"
   ]
  },
  {
   "cell_type": "code",
   "execution_count": 14,
   "metadata": {},
   "outputs": [
    {
     "data": {
      "text/html": [
       "<div>\n",
       "<style scoped>\n",
       "    .dataframe tbody tr th:only-of-type {\n",
       "        vertical-align: middle;\n",
       "    }\n",
       "\n",
       "    .dataframe tbody tr th {\n",
       "        vertical-align: top;\n",
       "    }\n",
       "\n",
       "    .dataframe thead th {\n",
       "        text-align: right;\n",
       "    }\n",
       "</style>\n",
       "<table border=\"1\" class=\"dataframe\">\n",
       "  <thead>\n",
       "    <tr style=\"text-align: right;\">\n",
       "      <th></th>\n",
       "      <th>node_0</th>\n",
       "      <th>node_1</th>\n",
       "      <th>weight</th>\n",
       "      <th>abs_weight</th>\n",
       "    </tr>\n",
       "  </thead>\n",
       "  <tbody>\n",
       "    <tr>\n",
       "      <th>4</th>\n",
       "      <td>Rafa</td>\n",
       "      <td>Pipe</td>\n",
       "      <td>0.000216</td>\n",
       "      <td>0.000216</td>\n",
       "    </tr>\n",
       "    <tr>\n",
       "      <th>2</th>\n",
       "      <td>MalClima</td>\n",
       "      <td>Rafa</td>\n",
       "      <td>0.098818</td>\n",
       "      <td>0.098818</td>\n",
       "    </tr>\n",
       "    <tr>\n",
       "      <th>6</th>\n",
       "      <td>MalClima</td>\n",
       "      <td>RompeVentana</td>\n",
       "      <td>0.157977</td>\n",
       "      <td>0.157977</td>\n",
       "    </tr>\n",
       "    <tr>\n",
       "      <th>1</th>\n",
       "      <td>Rafa</td>\n",
       "      <td>RompeVentana</td>\n",
       "      <td>0.327815</td>\n",
       "      <td>0.327815</td>\n",
       "    </tr>\n",
       "    <tr>\n",
       "      <th>3</th>\n",
       "      <td>Pipe</td>\n",
       "      <td>Rafa</td>\n",
       "      <td>0.454699</td>\n",
       "      <td>0.454699</td>\n",
       "    </tr>\n",
       "    <tr>\n",
       "      <th>5</th>\n",
       "      <td>Pipe</td>\n",
       "      <td>RompeVentana</td>\n",
       "      <td>0.653728</td>\n",
       "      <td>0.653728</td>\n",
       "    </tr>\n",
       "    <tr>\n",
       "      <th>0</th>\n",
       "      <td>MalClima</td>\n",
       "      <td>Pipe</td>\n",
       "      <td>0.703124</td>\n",
       "      <td>0.703124</td>\n",
       "    </tr>\n",
       "  </tbody>\n",
       "</table>\n",
       "</div>"
      ],
      "text/plain": [
       "     node_0        node_1    weight  abs_weight\n",
       "4      Rafa          Pipe  0.000216    0.000216\n",
       "2  MalClima          Rafa  0.098818    0.098818\n",
       "6  MalClima  RompeVentana  0.157977    0.157977\n",
       "1      Rafa  RompeVentana  0.327815    0.327815\n",
       "3      Pipe          Rafa  0.454699    0.454699\n",
       "5      Pipe  RompeVentana  0.653728    0.653728\n",
       "0  MalClima          Pipe  0.703124    0.703124"
      ]
     },
     "execution_count": 14,
     "metadata": {},
     "output_type": "execute_result"
    }
   ],
   "source": [
    "graph = pd.DataFrame({\n",
    "    (u, v, w, abs(w)) for u, v, w in sm_notears.edges(data=\"weight\")\n",
    "}, columns=['node_0', 'node_1', 'weight', 'abs_weight'])\n",
    "\n",
    "graph.sort_values(by='abs_weight')"
   ]
  },
  {
   "cell_type": "markdown",
   "metadata": {},
   "source": [
    "se puede hacer un triming del arbol usando un threshold de peso"
   ]
  },
  {
   "cell_type": "code",
   "execution_count": 15,
   "metadata": {},
   "outputs": [],
   "source": [
    "sm_notears.remove_edges_below_threshold(0.000216)"
   ]
  },
  {
   "cell_type": "code",
   "execution_count": 16,
   "metadata": {},
   "outputs": [
    {
     "data": {
      "image/png": "[encoded data removed]",
      "text/plain": [
       "<Figure size 720x504 with 1 Axes>"
      ]
     },
     "metadata": {},
     "output_type": "display_data"
    }
   ],
   "source": [
    "fig, ax = plt.subplots(figsize=(10, 7))\n",
    "nx.draw_networkx(\n",
    "    sm_notears, \n",
    "    node_color=get_node_colors(sm_notears, target), \n",
    "    node_size=700, \n",
    "    font_size=10, \n",
    "    ax=ax\n",
    ")\n",
    "\n",
    "fig.show()"
   ]
  },
  {
   "cell_type": "markdown",
   "metadata": {},
   "source": [
    "### Entrenar modelo usando grafo teórico"
   ]
  },
  {
   "cell_type": "code",
   "execution_count": 17,
   "metadata": {},
   "outputs": [
    {
     "name": "stderr",
     "output_type": "stream",
     "text": [
      "/opt/conda/lib/python3.7/site-packages/pgmpy/models/BayesianModel.py:10: FutureWarning: BayesianModel has been renamed to BayesianNetwork. Please use BayesianNewtork class, BayesianModel will be removed in future.\n",
      "  FutureWarning,\n"
     ]
    }
   ],
   "source": [
    "from causalnex.network import BayesianNetwork\n",
    "\n",
    "model = BayesianNetwork(sm_teorico)"
   ]
  },
  {
   "cell_type": "code",
   "execution_count": 18,
   "metadata": {},
   "outputs": [],
   "source": [
    "train = data.iloc[:900]\n",
    "test = data.iloc[900:]"
   ]
  },
  {
   "cell_type": "code",
   "execution_count": 19,
   "metadata": {},
   "outputs": [],
   "source": [
    "#extrae posibles valores (estados)que pueden tomar variables\n",
    "model = model.fit_node_states(train) \n",
    "\n",
    "#fitear modelo\n",
    "model = model.fit_cpds(train, method=\"BayesianEstimator\", bayes_prior=\"K2\")"
   ]
  },
  {
   "cell_type": "code",
   "execution_count": 20,
   "metadata": {},
   "outputs": [
    {
     "data": {
      "text/html": [
       "<div>\n",
       "<style scoped>\n",
       "    .dataframe tbody tr th:only-of-type {\n",
       "        vertical-align: middle;\n",
       "    }\n",
       "\n",
       "    .dataframe tbody tr th {\n",
       "        vertical-align: top;\n",
       "    }\n",
       "\n",
       "    .dataframe thead th {\n",
       "        text-align: right;\n",
       "    }\n",
       "</style>\n",
       "<table border=\"1\" class=\"dataframe\">\n",
       "  <thead>\n",
       "    <tr style=\"text-align: right;\">\n",
       "      <th></th>\n",
       "      <th>RompeVentana_0</th>\n",
       "      <th>RompeVentana_1</th>\n",
       "    </tr>\n",
       "  </thead>\n",
       "  <tbody>\n",
       "    <tr>\n",
       "      <th>900</th>\n",
       "      <td>0.103448</td>\n",
       "      <td>0.896552</td>\n",
       "    </tr>\n",
       "    <tr>\n",
       "      <th>901</th>\n",
       "      <td>0.266055</td>\n",
       "      <td>0.733945</td>\n",
       "    </tr>\n",
       "    <tr>\n",
       "      <th>902</th>\n",
       "      <td>0.266055</td>\n",
       "      <td>0.733945</td>\n",
       "    </tr>\n",
       "    <tr>\n",
       "      <th>903</th>\n",
       "      <td>0.103448</td>\n",
       "      <td>0.896552</td>\n",
       "    </tr>\n",
       "    <tr>\n",
       "      <th>904</th>\n",
       "      <td>0.103448</td>\n",
       "      <td>0.896552</td>\n",
       "    </tr>\n",
       "  </tbody>\n",
       "</table>\n",
       "</div>"
      ],
      "text/plain": [
       "     RompeVentana_0  RompeVentana_1\n",
       "900        0.103448        0.896552\n",
       "901        0.266055        0.733945\n",
       "902        0.266055        0.733945\n",
       "903        0.103448        0.896552\n",
       "904        0.103448        0.896552"
      ]
     },
     "execution_count": 20,
     "metadata": {},
     "output_type": "execute_result"
    }
   ],
   "source": [
    "predictions = model.predict_probability(test, target)\n",
    "predictions.head()"
   ]
  },
  {
   "cell_type": "code",
   "execution_count": 21,
   "metadata": {},
   "outputs": [],
   "source": [
    "def compute_pr_auc(target_values, prob_values):\n",
    "    precision, recall, _ = metrics.precision_recall_curve(\n",
    "        target_values, \n",
    "        prob_values,\n",
    "    )\n",
    "    return round(100*metrics.auc(recall, precision), 2)"
   ]
  },
  {
   "cell_type": "code",
   "execution_count": 22,
   "metadata": {},
   "outputs": [
    {
     "data": {
      "text/plain": [
       "96.81"
      ]
     },
     "execution_count": 22,
     "metadata": {},
     "output_type": "execute_result"
    }
   ],
   "source": [
    "compute_pr_auc(test['RompeVentana'], predictions['RompeVentana_1'])"
   ]
  },
  {
   "cell_type": "code",
   "execution_count": 23,
   "metadata": {},
   "outputs": [
    {
     "data": {
      "text/plain": [
       "0.9642999999999999"
      ]
     },
     "execution_count": 23,
     "metadata": {},
     "output_type": "execute_result"
    }
   ],
   "source": [
    "from causalnex.evaluation import roc_auc\n",
    "\n",
    "roc_auc(model, test, target)[-1]"
   ]
  },
  {
   "cell_type": "code",
   "execution_count": 24,
   "metadata": {},
   "outputs": [
    {
     "data": {
      "text/plain": [
       "0.78"
      ]
     },
     "execution_count": 24,
     "metadata": {},
     "output_type": "execute_result"
    }
   ],
   "source": [
    "test.RompeVentana.mean()"
   ]
  },
  {
   "cell_type": "markdown",
   "metadata": {},
   "source": [
    "### Preguntas contrafactuales"
   ]
  },
  {
   "cell_type": "code",
   "execution_count": 25,
   "metadata": {},
   "outputs": [],
   "source": [
    "from causalnex.inference import InferenceEngine"
   ]
  },
  {
   "cell_type": "code",
   "execution_count": 39,
   "metadata": {},
   "outputs": [],
   "source": [
    "ie = InferenceEngine(model)"
   ]
  },
  {
   "cell_type": "markdown",
   "metadata": {},
   "source": [
    "### Margiales sin intervención"
   ]
  },
  {
   "cell_type": "code",
   "execution_count": 40,
   "metadata": {},
   "outputs": [
    {
     "data": {
      "text/plain": [
       "{'MalClima': {0: 0.2139689578713969, 1: 0.786031042128603},\n",
       " 'Pipe': {0: 0.25343962418992433, 1: 0.7465603758100756},\n",
       " 'Rafa': {0: 0.48591937249942607, 1: 0.5140806275005738},\n",
       " 'RompeVentana': {0: 0.2093940666843793, 1: 0.7906059333156206}}"
      ]
     },
     "execution_count": 40,
     "metadata": {},
     "output_type": "execute_result"
    }
   ],
   "source": [
    "ie.query({})"
   ]
  },
  {
   "cell_type": "markdown",
   "metadata": {},
   "source": [
    "#### ¿Que pasaria si siempre hay buen clima?\n",
    "\n",
    "*Notamos que la estimación de **Pipe** y **Rafa** es muy precisa (ambas cerca de **0.9**)*"
   ]
  },
  {
   "cell_type": "code",
   "execution_count": 33,
   "metadata": {},
   "outputs": [
    {
     "data": {
      "text/plain": [
       "{'MalClima': {0: 1.0, 1: 0.0},\n",
       " 'Pipe': {0: 0.10309278350515463, 1: 0.8969072164948454},\n",
       " 'Rafa': {0: 0.1134020618556701, 1: 0.88659793814433},\n",
       " 'RompeVentana': {0: 0.05754096150591875, 1: 0.9424590384940813}}"
      ]
     },
     "execution_count": 33,
     "metadata": {},
     "output_type": "execute_result"
    }
   ],
   "source": [
    "ie.do_intervention(\"MalClima\", 0)\n",
    "marginals_after_interventions = ie.query({})\n",
    "marginals_after_interventions"
   ]
  },
  {
   "cell_type": "code",
   "execution_count": 34,
   "metadata": {},
   "outputs": [],
   "source": [
    "ie.reset_do(\"MalClima\")"
   ]
  },
  {
   "cell_type": "markdown",
   "metadata": {},
   "source": [
    "#### ¿Que pasaria si siempre hay mal clima?\n",
    "\n",
    "*Notamos que la estimación de **Pipe** y **Rafa** es muy precisa (ambas cerca de **Pipe~0.7** y **Rafa ~ 0.4**)*"
   ]
  },
  {
   "cell_type": "code",
   "execution_count": 35,
   "metadata": {},
   "outputs": [
    {
     "data": {
      "text/plain": [
       "{'MalClima': {0: 0.0, 1: 0.9999999999999999},\n",
       " 'Pipe': {0: 0.2943661971830986, 1: 0.7056338028169014},\n",
       " 'Rafa': {0: 0.5873239436619717, 1: 0.4126760563380282},\n",
       " 'RompeVentana': {0: 0.2507306665425498, 1: 0.7492693334574502}}"
      ]
     },
     "execution_count": 35,
     "metadata": {},
     "output_type": "execute_result"
    }
   ],
   "source": [
    "ie.do_intervention(\"MalClima\", 1)\n",
    "marginals_after_interventions = ie.query({})\n",
    "marginals_after_interventions"
   ]
  },
  {
   "cell_type": "code",
   "execution_count": 36,
   "metadata": {},
   "outputs": [],
   "source": [
    "ie.reset_do(\"MalClima\")"
   ]
  },
  {
   "cell_type": "markdown",
   "metadata": {},
   "source": [
    "#### ¿Que pasaria si siempre Rafa sale a tirar piedras?\n",
    "\n",
    "*Notamos que la probabilidad de romper ventana aumenta de 0.8 a 0.92 y que el clima no es afectado por esta intervención*"
   ]
  },
  {
   "cell_type": "code",
   "execution_count": 41,
   "metadata": {},
   "outputs": [
    {
     "data": {
      "text/plain": [
       "{'MalClima': {0: 0.2139689578713969, 1: 0.786031042128603},\n",
       " 'Pipe': {0: 0.25343962418992433, 1: 0.7465603758100756},\n",
       " 'Rafa': {0: 0.0, 1: 1.0},\n",
       " 'RompeVentana': {0: 0.07785571173072332, 1: 0.9221442882692766}}"
      ]
     },
     "execution_count": 41,
     "metadata": {},
     "output_type": "execute_result"
    }
   ],
   "source": [
    "ie.do_intervention(\"Rafa\", 1)\n",
    "marginals_after_interventions = ie.query({})\n",
    "marginals_after_interventions"
   ]
  },
  {
   "cell_type": "code",
   "execution_count": 42,
   "metadata": {},
   "outputs": [],
   "source": [
    "ie.reset_do(\"Rafa\")"
   ]
  },
  {
   "cell_type": "markdown",
   "metadata": {},
   "source": [
    "#### ¿Que pasaria si siempre Pipe sale a tirar piedras?\n",
    "\n",
    "*Notamos que la probabilidad de romper ventana aumenta de 0.8 a 0.94 y que el clima no es afectado por esta intervención*"
   ]
  },
  {
   "cell_type": "code",
   "execution_count": 43,
   "metadata": {},
   "outputs": [
    {
     "data": {
      "text/plain": [
       "{'MalClima': {0: 0.2139689578713969, 1: 0.7860310421286031},\n",
       " 'Pipe': {0: 0.0, 1: 0.9999999999999998},\n",
       " 'Rafa': {0: 0.48591937249942607, 1: 0.5140806275005738},\n",
       " 'RompeVentana': {0: 0.057447418325175, 1: 0.9425525816748248}}"
      ]
     },
     "execution_count": 43,
     "metadata": {},
     "output_type": "execute_result"
    }
   ],
   "source": [
    "ie.do_intervention(\"Pipe\", 1)\n",
    "marginals_after_interventions = ie.query({})\n",
    "marginals_after_interventions"
   ]
  },
  {
   "cell_type": "code",
   "execution_count": null,
   "metadata": {},
   "outputs": [],
   "source": []
  }
 ],
 "metadata": {
  "kernelspec": {
   "display_name": "Python 3",
   "language": "python",
   "name": "python3"
  },
  "language_info": {
   "codemirror_mode": {
    "name": "ipython",
    "version": 3
   },
   "file_extension": ".py",
   "mimetype": "text/x-python",
   "name": "python",
   "nbconvert_exporter": "python",
   "pygments_lexer": "ipython3",
   "version": "3.7.9"
  }
 },
 "nbformat": 4,
 "nbformat_minor": 4
}
